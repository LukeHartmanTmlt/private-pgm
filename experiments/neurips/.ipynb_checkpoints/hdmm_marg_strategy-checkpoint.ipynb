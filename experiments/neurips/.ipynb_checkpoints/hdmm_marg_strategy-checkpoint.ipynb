{
 "cells": [
  {
   "cell_type": "code",
   "execution_count": 1,
   "id": "mounted-venue",
   "metadata": {},
   "outputs": [],
   "source": [
    "from mbi import mechanism, FactoredInference\n",
    "import numpy as np\n",
    "import argparse\n",
    "from hdmm import workload, templates, error\n",
    "from mbi import Dataset\n",
    "import itertools\n",
    "from autodp import privacy_calibrator\n",
    "import os\n",
    "\n",
    "def convert_matrix(domain, cliques):\n",
    "    weights = {}\n",
    "    for proj in cliques:\n",
    "        tpl = tuple([domain.attrs.index(i) for i in proj])\n",
    "        weights[tpl] = 1.0\n",
    "    return workload.Marginals.fromtuples(domain.shape, weights)\n",
    "\n",
    "def convert_back(domain, Q):\n",
    "    result = []\n",
    "    for Qi in Q.matrices:\n",
    "        wgt = Qi.weight\n",
    "        key = tuple([domain.attrs[i] for i in Qi.base.tuple()])\n",
    "        result.append((key, wgt))\n",
    "    return result\n"
   ]
  },
  {
   "cell_type": "code",
   "execution_count": 5,
   "id": "auburn-observation",
   "metadata": {},
   "outputs": [
    {
     "ename": "NameError",
     "evalue": "name 'args' is not defined",
     "output_type": "error",
     "traceback": [
      "\u001b[0;31m---------------------------------------------------------------------------\u001b[0m",
      "\u001b[0;31mNameError\u001b[0m                                 Traceback (most recent call last)",
      "\u001b[0;32m<ipython-input-5-14f70b0066c2>\u001b[0m in \u001b[0;36m<module>\u001b[0;34m\u001b[0m\n\u001b[1;32m      6\u001b[0m \u001b[0;34m\u001b[0m\u001b[0m\n\u001b[1;32m      7\u001b[0m \u001b[0mall3way\u001b[0m \u001b[0;34m=\u001b[0m \u001b[0mlist\u001b[0m\u001b[0;34m(\u001b[0m\u001b[0mitertools\u001b[0m\u001b[0;34m.\u001b[0m\u001b[0mcombinations\u001b[0m\u001b[0;34m(\u001b[0m\u001b[0mdata\u001b[0m\u001b[0;34m.\u001b[0m\u001b[0mdomain\u001b[0m\u001b[0;34m,\u001b[0m \u001b[0;36m3\u001b[0m\u001b[0;34m)\u001b[0m\u001b[0;34m)\u001b[0m\u001b[0;34m\u001b[0m\u001b[0;34m\u001b[0m\u001b[0m\n\u001b[0;32m----> 8\u001b[0;31m \u001b[0mcliques\u001b[0m \u001b[0;34m=\u001b[0m \u001b[0;34m[\u001b[0m\u001b[0mall3way\u001b[0m\u001b[0;34m[\u001b[0m\u001b[0mi\u001b[0m\u001b[0;34m]\u001b[0m \u001b[0;32mfor\u001b[0m \u001b[0mi\u001b[0m \u001b[0;32min\u001b[0m \u001b[0mprng\u001b[0m\u001b[0;34m.\u001b[0m\u001b[0mchoice\u001b[0m\u001b[0;34m(\u001b[0m\u001b[0mlen\u001b[0m\u001b[0;34m(\u001b[0m\u001b[0mall3way\u001b[0m\u001b[0;34m)\u001b[0m\u001b[0;34m,\u001b[0m \u001b[0margs\u001b[0m\u001b[0;34m.\u001b[0m\u001b[0mworkload\u001b[0m\u001b[0;34m,\u001b[0m \u001b[0mreplace\u001b[0m\u001b[0;34m=\u001b[0m\u001b[0;32mFalse\u001b[0m\u001b[0;34m)\u001b[0m\u001b[0;34m]\u001b[0m\u001b[0;34m\u001b[0m\u001b[0;34m\u001b[0m\u001b[0m\n\u001b[0m\u001b[1;32m      9\u001b[0m \u001b[0mW\u001b[0m \u001b[0;34m=\u001b[0m \u001b[0mconvert_matrix\u001b[0m\u001b[0;34m(\u001b[0m\u001b[0mdata\u001b[0m\u001b[0;34m.\u001b[0m\u001b[0mdomain\u001b[0m\u001b[0;34m,\u001b[0m \u001b[0mcliques\u001b[0m\u001b[0;34m)\u001b[0m\u001b[0;34m\u001b[0m\u001b[0;34m\u001b[0m\u001b[0m\n\u001b[1;32m     10\u001b[0m \u001b[0;34m\u001b[0m\u001b[0m\n",
      "\u001b[0;31mNameError\u001b[0m: name 'args' is not defined"
     ]
    }
   ],
   "source": [
    "prng = np.random\n",
    "prefix = os.getenv('HD_DATA') #'/home/rmckenna/Repos/hd-datasets/clean/'\n",
    "attrs = ['ALS Unit', 'Battalion', 'Call Final Disposition', 'Call Type', 'Call Type Group', 'City', 'Final Priority', 'Fire Prevention District', 'Neighborhooods - Analysis Boundaries', 'Original Priority', 'Priority', 'Station Area', 'Supervisor District', 'Unit Type', 'Zipcode of Incident']\n",
    "\n",
    "data = Dataset.load(prefix+'fire.csv', prefix+'fire-domain.json').project(attrs)\n",
    "\n",
    "all3way = list(itertools.combinations(data.domain, 3))\n",
    "cliques = [all3way[i] for i in prng.choice(len(all3way), args.workload, replace=False)]\n",
    "W = convert_matrix(data.domain, cliques)\n",
    "\n",
    "best_obj = np.inf\n",
    "restarts = 1\n",
    "for _ in range(restarts):\n",
    "    temp = templates.Marginals(data.domain.shape, approx=args.delta>0, seed=args.seed)\n",
    "    obj = temp.optimize(W)\n",
    "    if obj < best_obj:\n",
    "        best_obj = obj\n",
    "        A = temp.strategy()\n"
   ]
  },
  {
   "cell_type": "code",
   "execution_count": null,
   "id": "transparent-harbor",
   "metadata": {},
   "outputs": [],
   "source": []
  }
 ],
 "metadata": {
  "kernelspec": {
   "display_name": "Python 3",
   "language": "python",
   "name": "python3"
  },
  "language_info": {
   "codemirror_mode": {
    "name": "ipython",
    "version": 3
   },
   "file_extension": ".py",
   "mimetype": "text/x-python",
   "name": "python",
   "nbconvert_exporter": "python",
   "pygments_lexer": "ipython3",
   "version": "3.8.5"
  }
 },
 "nbformat": 4,
 "nbformat_minor": 5
}
