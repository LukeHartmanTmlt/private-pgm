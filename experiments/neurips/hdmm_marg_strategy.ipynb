{
 "cells": [
  {
   "cell_type": "code",
   "execution_count": 7,
   "id": "brave-prophet",
   "metadata": {},
   "outputs": [],
   "source": [
    "from mbi import mechanism, FactoredInference\n",
    "import numpy as np\n",
    "import argparse\n",
    "from hdmm import workload, templates, error\n",
    "from mbi import Dataset\n",
    "import itertools\n",
    "from autodp import privacy_calibrator\n",
    "import os\n",
    "\n",
    "def convert_matrix(domain, cliques):\n",
    "    weights = {}\n",
    "    for proj in cliques:\n",
    "        tpl = tuple([domain.attrs.index(i) for i in proj])\n",
    "        weights[tpl] = 1.0\n",
    "    return workload.Marginals.fromtuples(domain.shape, weights)\n",
    "\n",
    "def convert_back(domain, Q):\n",
    "    result = []\n",
    "    for Qi in Q.matrices:\n",
    "        wgt = Qi.weight\n",
    "        key = tuple([domain.attrs[i] for i in Qi.base.tuple()])\n",
    "        result.append((key, wgt))\n",
    "    return result\n"
   ]
  },
  {
   "cell_type": "code",
   "execution_count": null,
   "id": "nasty-broadcasting",
   "metadata": {},
   "outputs": [],
   "source": [
    "prng = np.random\n",
    "number = 1\n",
    "prefix = os.getenv('HD_DATA') #'/home/rmckenna/Repos/hd-datasets/clean/'\n",
    "attrs = ['ALS Unit', 'Battalion', 'Call Final Disposition', 'Call Type', 'Call Type Group', 'City', 'Final Priority', 'Fire Prevention District', 'Neighborhooods - Analysis Boundaries', 'Original Priority', 'Priority', 'Station Area', 'Supervisor District', 'Unit Type', 'Zipcode of Incident']\n",
    "\n",
    "data = Dataset.load(prefix+'fire.csv', prefix+'fire-domain.json').project(attrs)\n",
    "\n",
    "all3way = list(itertools.combinations(data.domain, 3))\n",
    "cliques = [all3way[i] for i in prng.choice(len(all3way), number, replace=False)]\n",
    "W = convert_matrix(data.domain, cliques)\n",
    "\n",
    "best_obj = np.inf\n",
    "restarts = 1\n",
    "for _ in range(restarts):\n",
    "    temp = templates.Marginals(data.domain.shape, approx=False)\n",
    "    obj = temp.optimize(W)\n",
    "    if obj < best_obj:\n",
    "        best_obj = obj\n",
    "        A = temp.strategy()\n"
   ]
  },
  {
   "cell_type": "code",
   "execution_count": null,
   "id": "bibliographic-expansion",
   "metadata": {},
   "outputs": [],
   "source": []
  }
 ],
 "metadata": {
  "kernelspec": {
   "display_name": "Python 3",
   "language": "python",
   "name": "python3"
  },
  "language_info": {
   "codemirror_mode": {
    "name": "ipython",
    "version": 3
   },
   "file_extension": ".py",
   "mimetype": "text/x-python",
   "name": "python",
   "nbconvert_exporter": "python",
   "pygments_lexer": "ipython3",
   "version": "3.8.5"
  }
 },
 "nbformat": 4,
 "nbformat_minor": 5
}
