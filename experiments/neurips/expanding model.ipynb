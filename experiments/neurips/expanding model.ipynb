{
 "cells": [
  {
   "cell_type": "code",
   "execution_count": 51,
   "id": "linear-volume",
   "metadata": {},
   "outputs": [],
   "source": [
    "from mbi import Dataset, FactoredInference, Factor, GraphicalModel, Domain, CliqueVector, RegionGraph, FactorGraph\n",
    "import numpy as np\n",
    "import itertools\n",
    "from scipy import sparse\n",
    "import pandas as pd\n"
   ]
  },
  {
   "cell_type": "code",
   "execution_count": 52,
   "id": "helpful-company",
   "metadata": {},
   "outputs": [],
   "source": [
    "def get_random_cliques(attrs, size, number, prng=np.random):\n",
    "    allcl = list(itertools.combinations(attrs, size))\n",
    "    idx = prng.choice(len(allcl), number, replace=False)\n",
    "    return [allcl[i] for i in idx]\n"
   ]
  },
  {
   "cell_type": "code",
   "execution_count": 64,
   "id": "chemical-classics",
   "metadata": {},
   "outputs": [],
   "source": [
    "attrs = ['A', 'B', 'C', 'D', 'E']\n",
    "domain = Domain(attrs, [2]*len(attrs))\n",
    "cliques = [('D', 'E'), ('C', 'D'), ('A', 'C'), ('B', 'E'), ('A', 'D')]\n",
    "model = RegionGraph(domain, cliques, iters=1000, convex=True, minimal=True)\n",
    "potentials = CliqueVector.random(domain, model.cliques)*3\n",
    "marginals0 = model.belief_propagation(potentials)\n",
    "#marginals1 = model.optimize_bethe(potentials)"
   ]
  },
  {
   "cell_type": "code",
   "execution_count": 145,
   "id": "blessed-newfoundland",
   "metadata": {},
   "outputs": [],
   "source": [
    "#cliques2 = cliques# + [('A','B')]\n",
    "cliques2 = list(itertools.combinations(attrs, 2))\n",
    "model2 = RegionGraph(domain, cliques2, iters=1000, convex=True, minimal=True)\n",
    "for key in model2.counting_numbers:\n",
    "    if not key in model.counting_numbers:\n",
    "        model2.counting_numbers[key] = 0.000001\n",
    "potentials2 = CliqueVector.zeros(domain, model2.cliques)\n",
    "potentials2.combine(potentials)\n",
    "marginals2 = model2.belief_propagation(potentials2)\n",
    "#marginals3 = model2.optimize_bethe(potentials2)"
   ]
  },
  {
   "cell_type": "code",
   "execution_count": 146,
   "id": "amateur-coupon",
   "metadata": {},
   "outputs": [
    {
     "name": "stdout",
     "output_type": "stream",
     "text": [
      "[0.1625758  0.26524909 0.46468453 0.10749058]\n",
      "[0.16257578 0.26524915 0.46468447 0.1074906 ]\n",
      "\n",
      "[0.2087245  0.18049793 0.2191004  0.39167717]\n",
      "[0.20872454 0.18049795 0.21910039 0.39167712]\n",
      "\n",
      "[0.33555426 0.31799587 0.05366817 0.2927817 ]\n",
      "[0.33555429 0.31799576 0.0536682  0.29278175]\n",
      "\n",
      "[0.42738935 0.2606159  0.19987098 0.11212377]\n",
      "[0.42738887 0.26061571 0.19987139 0.11212404]\n",
      "\n",
      "[0.25569157 0.39785856 0.17213332 0.17431654]\n",
      "[0.25569155 0.39785849 0.17213338 0.17431658]\n",
      "\n",
      "[0.44964542 0.20390462 0.23835915 0.1080908 ]\n"
     ]
    }
   ],
   "source": [
    "for cl in cliques:\n",
    "    print(marginals0[cl].datavector())\n",
    "    #print(marginals1[cl].datavector())\n",
    "    print(marginals2[cl].datavector())\n",
    "    #print(marginals3[cl].datavector())\n",
    "    print()\n",
    "    \n",
    "print(marginals2[('A','B')].datavector())"
   ]
  },
  {
   "cell_type": "code",
   "execution_count": 147,
   "id": "indie-engine",
   "metadata": {},
   "outputs": [
    {
     "name": "stdout",
     "output_type": "stream",
     "text": [
      "[0.44964542 0.20390462 0.23835915 0.1080908 ]\n",
      "[-1386293.64837616 -1386294.43918313 -1386294.28305691 -1386295.07386388]\n",
      "[-0.69314686 -0.6931475 ] [-0.69314679 -0.69314758] [0. 0. 0. 0.]\n"
     ]
    }
   ],
   "source": [
    "phi = potentials2[('A','B')]\n",
    "msg1 = model2.messages[(('A',),('A','B'))]\n",
    "msg2 = model2.messages[(('B',),('A','B'))]\n",
    "c = model2.counting_numbers[('A','B')]\n",
    "belief = ((phi + msg1 + msg2)/c)\n",
    "mu = (belief - belief.logsumexp()).exp()\n",
    "print(mu.datavector())\n",
    "print(belief.datavector())\n",
    "print(msg1.datavector(), msg2.datavector(), phi.datavector())"
   ]
  },
  {
   "cell_type": "code",
   "execution_count": 134,
   "id": "invisible-engine",
   "metadata": {},
   "outputs": [
    {
     "name": "stdout",
     "output_type": "stream",
     "text": [
      "[0.44959582 0.20394581 0.23834172 0.10811665]\n"
     ]
    }
   ],
   "source": [
    "pot = potentials2\n",
    "messages = model2.messages\n",
    "self = model2\n",
    "belief = (pot[r] + sum(messages[c,r] for c in self.children[r]) - sum(messages[r,p] for p in self.parents[r])) / c\n",
    "mu = (belief - belief.logsumexp()).exp()\n",
    "print(mu.datavector())"
   ]
  },
  {
   "cell_type": "code",
   "execution_count": 142,
   "id": "identical-serve",
   "metadata": {},
   "outputs": [
    {
     "data": {
      "text/plain": [
       "array([-0.69311545, -0.69317891])"
      ]
     },
     "execution_count": 142,
     "metadata": {},
     "output_type": "execute_result"
    }
   ],
   "source": [
    "model2.messages[(('A',),('A','B'))].datavector()"
   ]
  },
  {
   "cell_type": "code",
   "execution_count": 144,
   "id": "legendary-motel",
   "metadata": {},
   "outputs": [
    {
     "data": {
      "text/plain": [
       "array([-0.69310766, -0.69318671])"
      ]
     },
     "execution_count": 144,
     "metadata": {},
     "output_type": "execute_result"
    }
   ],
   "source": [
    "msg2.datavector()"
   ]
  },
  {
   "cell_type": "code",
   "execution_count": null,
   "id": "promising-monitor",
   "metadata": {},
   "outputs": [],
   "source": []
  }
 ],
 "metadata": {
  "kernelspec": {
   "display_name": "Python 3",
   "language": "python",
   "name": "python3"
  },
  "language_info": {
   "codemirror_mode": {
    "name": "ipython",
    "version": 3
   },
   "file_extension": ".py",
   "mimetype": "text/x-python",
   "name": "python",
   "nbconvert_exporter": "python",
   "pygments_lexer": "ipython3",
   "version": "3.8.5"
  }
 },
 "nbformat": 4,
 "nbformat_minor": 5
}
