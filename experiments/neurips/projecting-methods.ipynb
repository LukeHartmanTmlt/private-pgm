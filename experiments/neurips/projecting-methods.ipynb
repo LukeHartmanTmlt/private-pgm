{
 "cells": [
  {
   "cell_type": "code",
   "execution_count": 18,
   "id": "linear-volume",
   "metadata": {},
   "outputs": [
    {
     "name": "stdout",
     "output_type": "stream",
     "text": [
      "The autoreload extension is already loaded. To reload it, use:\n",
      "  %reload_ext autoreload\n"
     ]
    }
   ],
   "source": [
    "from mbi import Dataset, FactoredInference, Factor, GraphicalModel, Domain, CliqueVector, RegionGraph, FactorGraph\n",
    "from mbi.region_graph import estimate_kikuchi_marginal\n",
    "import numpy as np\n",
    "import itertools\n",
    "from scipy import sparse\n",
    "import pandas as pd\n",
    "%load_ext autoreload\n",
    "%autoreload 2"
   ]
  },
  {
   "cell_type": "code",
   "execution_count": 2,
   "id": "helpful-company",
   "metadata": {},
   "outputs": [],
   "source": [
    "def get_random_cliques(attrs, size, number, prng=np.random):\n",
    "    allcl = list(itertools.combinations(attrs, size))\n",
    "    idx = prng.choice(len(allcl), number, replace=False)\n",
    "    return [allcl[i] for i in idx]"
   ]
  },
  {
   "cell_type": "code",
   "execution_count": 3,
   "id": "chemical-classics",
   "metadata": {},
   "outputs": [
    {
     "name": "stdout",
     "output_type": "stream",
     "text": [
      "CHECKPT (7, 21) 7\n",
      "{'status': 'optimal', 'x': <21x1 matrix, tc='d'>, 'y': <7x1 matrix, tc='d'>, 'znl': <0x1 matrix, tc='d'>, 'zl': <21x1 matrix, tc='d'>, 'snl': <0x1 matrix, tc='d'>, 'sl': <21x1 matrix, tc='d'>, 'gap': 5.4417377103023725e-08, 'relative gap': 5.827579472300036e-09, 'primal objective': -9.337903903616128, 'dual objective': -9.337903944407225, 'primal slack': 8.38590482748788e-11, 'dual slack': 7.475669814810973e-11, 'primal infeasibility': 1.5579665647026412e-09, 'dual infeasibility': 7.490353314969441e-09}\n"
     ]
    }
   ],
   "source": [
    "domain = Domain(['A', 'B', 'C'], [2,3,4])\n",
    "cliques = [('A','B'), ('B','C')]\n",
    "model = RegionGraph(domain, cliques, iters=1000, convex=True, minimal=True)\n",
    "potentials = CliqueVector.random(domain, model.cliques)*3\n",
    "marginals = model.belief_propagation(potentials)\n",
    "marginals1 = model.optimize_kikuchi(potentials)"
   ]
  },
  {
   "cell_type": "code",
   "execution_count": 26,
   "id": "dense-recommendation",
   "metadata": {},
   "outputs": [
    {
     "data": {
      "text/plain": [
       "array([0.04153231, 0.01857051, 0.04704931, 0.05632712, 0.24184426,\n",
       "       0.0795644 , 0.23660759, 0.2785045 ])"
      ]
     },
     "execution_count": 26,
     "metadata": {},
     "output_type": "execute_result"
    }
   ],
   "source": [
    "model.potentials = potentials\n",
    "model.marginals = marginals\n",
    "model.project(['A','B','C'], iters=1000).project(['A','C']).datavector()"
   ]
  },
  {
   "cell_type": "code",
   "execution_count": 5,
   "id": "promising-monitor",
   "metadata": {},
   "outputs": [
    {
     "data": {
      "text/plain": [
       "(array([0.06362768, 0.06229905, 0.03755252, 0.31009945, 0.22310793,\n",
       "        0.30331337]),\n",
       " array([0.06362769, 0.06229905, 0.03755253, 0.31009944, 0.22310793,\n",
       "        0.30331336]))"
      ]
     },
     "execution_count": 5,
     "metadata": {},
     "output_type": "execute_result"
    }
   ],
   "source": [
    "marginals[('A','B')].datavector(), marginals1[('A','B')].datavector()"
   ]
  },
  {
   "cell_type": "code",
   "execution_count": 25,
   "id": "psychological-dakota",
   "metadata": {},
   "outputs": [
    {
     "data": {
      "text/plain": [
       "array([0.04632619, 0.01604302, 0.04637202, 0.05473802, 0.23705038,\n",
       "       0.08209189, 0.23728488, 0.2800936 ])"
      ]
     },
     "execution_count": 25,
     "metadata": {},
     "output_type": "execute_result"
    }
   ],
   "source": [
    "model.project(['A','C'], iters=5).datavector()"
   ]
  },
  {
   "cell_type": "code",
   "execution_count": 17,
   "id": "electoral-ribbon",
   "metadata": {},
   "outputs": [
    {
     "data": {
      "text/plain": [
       "array([0.04632619, 0.01604302, 0.04637202, 0.05473802, 0.23705038,\n",
       "       0.08209189, 0.23728488, 0.2800936 ])"
      ]
     },
     "execution_count": 17,
     "metadata": {},
     "output_type": "execute_result"
    }
   ],
   "source": [
    "(model.project(['A'])*model.project(['C'])).datavector()"
   ]
  },
  {
   "cell_type": "code",
   "execution_count": 21,
   "id": "adaptive-nerve",
   "metadata": {},
   "outputs": [
    {
     "data": {
      "text/plain": [
       "array([0.04632619, 0.01604302, 0.04637202, 0.05473802, 0.23705038,\n",
       "       0.08209189, 0.23728488, 0.2800936 ])"
      ]
     },
     "execution_count": 21,
     "metadata": {},
     "output_type": "execute_result"
    }
   ],
   "source": [
    "tmp = {}\n",
    "tmp[('A',)] = model.project(['A'])\n",
    "tmp[('C',)] = model.project(['C'])\n",
    "ans = estimate_kikuchi_marginal(domain.project(['A','C']), 1.0, tmp)\n",
    "ans.datavector()"
   ]
  },
  {
   "cell_type": "code",
   "execution_count": 9,
   "id": "human-amount",
   "metadata": {},
   "outputs": [
    {
     "data": {
      "text/plain": [
       "array([0.05689502, 0.00997681, 0.07154035, 0.0096694 , 0.03251866,\n",
       "       0.00829868, 0.03287898, 0.01929192, 0.08391789, 0.02180309,\n",
       "       0.03153647, 0.0987724 , 0.05534567, 0.00970512, 0.06959218,\n",
       "       0.00940609, 0.04923967, 0.01256584, 0.04978528, 0.02921179,\n",
       "       0.08463566, 0.02198958, 0.03180621, 0.09961723])"
      ]
     },
     "execution_count": 9,
     "metadata": {},
     "output_type": "execute_result"
    }
   ],
   "source": [
    "cp = 1e-6\n",
    "\n",
    "new = {}\n",
    "p = ('A','B','C')\n",
    "for r in [('A','B'), ('B','C')]:\n",
    "    new[p,r] = Factor.zeros(domain.project(r))\n",
    "    new[r,p] = Factor.zeros(domain.project(r))\n",
    "\n",
    "for r in [('A','B'), ('B','C')]:\n",
    "    comp = [c for c in cliques if c != r]\n",
    "    diff = tuple(set(p) - set(r))\n",
    "    tmp = Factor.zeros(domain.project(p)) + sum(new[c,p] for c in comp)\n",
    "    new[r,p] = potentials[r] + model.messages[(('B',),r)]\n",
    "\n",
    "logP = Factor.zeros(domain.project(p)) + sum(new[r,p] for r in cliques)\n",
    "P = (logP - logP.logsumexp()).exp()\n",
    "\n",
    "P.datavector()"
   ]
  },
  {
   "cell_type": "code",
   "execution_count": 10,
   "id": "satisfied-thomson",
   "metadata": {},
   "outputs": [
    {
     "data": {
      "text/plain": [
       "(array([0.14808158, 0.09298824, 0.23602986, 0.14404906, 0.14080258,\n",
       "        0.23804869]),\n",
       " array([0.15998187, 0.11229814, 0.2001705 , 0.15562528, 0.17004159,\n",
       "        0.20188261]))"
      ]
     },
     "execution_count": 10,
     "metadata": {},
     "output_type": "execute_result"
    }
   ],
   "source": [
    "P.project(['A','B']).datavector(), marginals[('A','B')].datavector()"
   ]
  },
  {
   "cell_type": "code",
   "execution_count": 218,
   "id": "diverse-antigua",
   "metadata": {},
   "outputs": [
    {
     "name": "stdout",
     "output_type": "stream",
     "text": [
      "CHECKPT (18, 35) 18\n",
      "{'status': 'optimal', 'x': <35x1 matrix, tc='d'>, 'y': <18x1 matrix, tc='d'>, 'znl': <0x1 matrix, tc='d'>, 'zl': <35x1 matrix, tc='d'>, 'snl': <0x1 matrix, tc='d'>, 'sl': <35x1 matrix, tc='d'>, 'gap': 4.020451145108476e-08, 'relative gap': 4.367918945694654e-09, 'primal objective': -9.204500346947443, 'dual objective': -9.20450037680028, 'primal slack': 2.1873703004273418e-10, 'dual slack': 1.3983654319453492e-10, 'primal infeasibility': 1.1183458203270308e-09, 'dual infeasibility': 7.032728461791809e-09}\n"
     ]
    }
   ],
   "source": [
    "potentials[('A','C')] = Factor.zeros(domain.project(['A','C']))\n",
    "model2 = RegionGraph(domain, list(potentials.keys()), iters=10, convex=True, minimal=True)\n",
    "model2.messages.update(model.messages)\n",
    "model2.counting_numbers = {('B',): 1.0, \n",
    "                           ('C',): 0.01, \n",
    "                           ('A',): 0.01, \n",
    "                          ('A', 'B'): 1.0, \n",
    "                          ('A', 'C'): 0.01, \n",
    "                          ('B', 'C'): 1.0}\n",
    "\n",
    "marginals2 = model2.hazan_peng_shashua(potentials)\n",
    "marginals3 = model2.wiegerinck(potentials)\n",
    "#marginals4 = model.loh_wibisono(potentials)\n",
    "marginals5 = model2.optimize_kikuchi(potentials, backend='cvxopt')"
   ]
  },
  {
   "cell_type": "code",
   "execution_count": 219,
   "id": "automatic-round",
   "metadata": {},
   "outputs": [
    {
     "name": "stdout",
     "output_type": "stream",
     "text": [
      "[0.26556084 0.08700729 0.25203784 0.10000487 0.25334595 0.0420432 ]\n",
      "[0.26562855 0.08696464 0.25206253 0.10004171 0.25325048 0.04205209]\n",
      "[0.26562854 0.08696464 0.25206253 0.10004171 0.25325048 0.04205209]\n"
     ]
    }
   ],
   "source": [
    "print(marginals2[('A','B')].datavector())\n",
    "print(marginals3[('A','B')].datavector())\n",
    "print(marginals5[('A','B')].datavector())"
   ]
  },
  {
   "cell_type": "code",
   "execution_count": 202,
   "id": "canadian-lesson",
   "metadata": {},
   "outputs": [
    {
     "ename": "KeyError",
     "evalue": "('A', 'B', 'C')",
     "output_type": "error",
     "traceback": [
      "\u001b[0;31m---------------------------------------------------------------------------\u001b[0m",
      "\u001b[0;31mKeyError\u001b[0m                                  Traceback (most recent call last)",
      "\u001b[0;32m<ipython-input-202-e82769c7bde9>\u001b[0m in \u001b[0;36m<module>\u001b[0;34m\u001b[0m\n\u001b[0;32m----> 1\u001b[0;31m \u001b[0mprint\u001b[0m\u001b[0;34m(\u001b[0m\u001b[0mmarginals2\u001b[0m\u001b[0;34m[\u001b[0m\u001b[0;34m(\u001b[0m\u001b[0;34m'A'\u001b[0m\u001b[0;34m,\u001b[0m\u001b[0;34m'B'\u001b[0m\u001b[0;34m,\u001b[0m\u001b[0;34m'C'\u001b[0m\u001b[0;34m)\u001b[0m\u001b[0;34m]\u001b[0m\u001b[0;34m.\u001b[0m\u001b[0mproject\u001b[0m\u001b[0;34m(\u001b[0m\u001b[0;34m[\u001b[0m\u001b[0;34m'A'\u001b[0m\u001b[0;34m,\u001b[0m\u001b[0;34m'B'\u001b[0m\u001b[0;34m]\u001b[0m\u001b[0;34m)\u001b[0m\u001b[0;34m.\u001b[0m\u001b[0mdatavector\u001b[0m\u001b[0;34m(\u001b[0m\u001b[0;34m)\u001b[0m\u001b[0;34m)\u001b[0m\u001b[0;34m\u001b[0m\u001b[0;34m\u001b[0m\u001b[0m\n\u001b[0m\u001b[1;32m      2\u001b[0m \u001b[0mprint\u001b[0m\u001b[0;34m(\u001b[0m\u001b[0mmarginals2\u001b[0m\u001b[0;34m[\u001b[0m\u001b[0;34m(\u001b[0m\u001b[0;34m'A'\u001b[0m\u001b[0;34m,\u001b[0m\u001b[0;34m'B'\u001b[0m\u001b[0;34m)\u001b[0m\u001b[0;34m]\u001b[0m\u001b[0;34m.\u001b[0m\u001b[0mdatavector\u001b[0m\u001b[0;34m(\u001b[0m\u001b[0;34m)\u001b[0m\u001b[0;34m)\u001b[0m\u001b[0;34m\u001b[0m\u001b[0;34m\u001b[0m\u001b[0m\n\u001b[1;32m      3\u001b[0m \u001b[0mprint\u001b[0m\u001b[0;34m(\u001b[0m\u001b[0mmarginals3\u001b[0m\u001b[0;34m[\u001b[0m\u001b[0;34m(\u001b[0m\u001b[0;34m'A'\u001b[0m\u001b[0;34m,\u001b[0m\u001b[0;34m'B'\u001b[0m\u001b[0;34m,\u001b[0m\u001b[0;34m'C'\u001b[0m\u001b[0;34m)\u001b[0m\u001b[0;34m]\u001b[0m\u001b[0;34m.\u001b[0m\u001b[0mproject\u001b[0m\u001b[0;34m(\u001b[0m\u001b[0;34m[\u001b[0m\u001b[0;34m'A'\u001b[0m\u001b[0;34m,\u001b[0m\u001b[0;34m'B'\u001b[0m\u001b[0;34m]\u001b[0m\u001b[0;34m)\u001b[0m\u001b[0;34m.\u001b[0m\u001b[0mdatavector\u001b[0m\u001b[0;34m(\u001b[0m\u001b[0;34m)\u001b[0m\u001b[0;34m)\u001b[0m\u001b[0;34m\u001b[0m\u001b[0;34m\u001b[0m\u001b[0m\n\u001b[1;32m      4\u001b[0m \u001b[0;31m#print(marginals4[('A','B','C')].project(['A','B']).datavector())\u001b[0m\u001b[0;34m\u001b[0m\u001b[0;34m\u001b[0m\u001b[0;34m\u001b[0m\u001b[0m\n\u001b[1;32m      5\u001b[0m \u001b[0mprint\u001b[0m\u001b[0;34m(\u001b[0m\u001b[0mmarginals5\u001b[0m\u001b[0;34m[\u001b[0m\u001b[0;34m(\u001b[0m\u001b[0;34m'A'\u001b[0m\u001b[0;34m,\u001b[0m\u001b[0;34m'B'\u001b[0m\u001b[0;34m,\u001b[0m\u001b[0;34m'C'\u001b[0m\u001b[0;34m)\u001b[0m\u001b[0;34m]\u001b[0m\u001b[0;34m.\u001b[0m\u001b[0mproject\u001b[0m\u001b[0;34m(\u001b[0m\u001b[0;34m[\u001b[0m\u001b[0;34m'A'\u001b[0m\u001b[0;34m,\u001b[0m\u001b[0;34m'B'\u001b[0m\u001b[0;34m]\u001b[0m\u001b[0;34m)\u001b[0m\u001b[0;34m.\u001b[0m\u001b[0mdatavector\u001b[0m\u001b[0;34m(\u001b[0m\u001b[0;34m)\u001b[0m\u001b[0;34m)\u001b[0m\u001b[0;34m\u001b[0m\u001b[0;34m\u001b[0m\u001b[0m\n",
      "\u001b[0;31mKeyError\u001b[0m: ('A', 'B', 'C')"
     ]
    }
   ],
   "source": [
    "print(marginals2[('A','B','C')].project(['A','B']).datavector())\n",
    "print(marginals2[('A','B')].datavector())\n",
    "print(marginals3[('A','B','C')].project(['A','B']).datavector())\n",
    "#print(marginals4[('A','B','C')].project(['A','B']).datavector())\n",
    "print(marginals5[('A','B','C')].project(['A','B']).datavector())"
   ]
  },
  {
   "cell_type": "code",
   "execution_count": 92,
   "id": "provincial-wells",
   "metadata": {},
   "outputs": [
    {
     "data": {
      "text/plain": [
       "True"
      ]
     },
     "execution_count": 92,
     "metadata": {},
     "output_type": "execute_result"
    }
   ],
   "source": [
    "marginals2[('B',)] = marginals2[('B','C')].project('B')\n",
    "marginals3[('B',)] = marginals3[('B','C')].project('B')\n",
    "\n",
    "model.energy_functional(potentials, marginals2)[0] < model.energy_functional(potentials, marginals3)[0]"
   ]
  },
  {
   "cell_type": "code",
   "execution_count": 169,
   "id": "subtle-insertion",
   "metadata": {},
   "outputs": [
    {
     "data": {
      "text/plain": [
       "array([-1.04868313, -0.96022106, -1.32128267])"
      ]
     },
     "execution_count": 169,
     "metadata": {},
     "output_type": "execute_result"
    }
   ],
   "source": [
    "model2.messages[(('B','C'),('B',))].datavector()"
   ]
  },
  {
   "cell_type": "code",
   "execution_count": 41,
   "id": "ready-cement",
   "metadata": {},
   "outputs": [
    {
     "name": "stdout",
     "output_type": "stream",
     "text": [
      "[0.17676168 0.02332185 0.19762599 0.10444025 0.2502634  0.24758683]\n"
     ]
    }
   ],
   "source": [
    "P = marginals[('A','B')]*marginals[('B','C')]/marginals[('A','B')].project('B')\n",
    "print(P.project(['A','B']).datavector())"
   ]
  },
  {
   "cell_type": "code",
   "execution_count": null,
   "id": "chicken-deposit",
   "metadata": {},
   "outputs": [],
   "source": []
  }
 ],
 "metadata": {
  "kernelspec": {
   "display_name": "Python 3",
   "language": "python",
   "name": "python3"
  },
  "language_info": {
   "codemirror_mode": {
    "name": "ipython",
    "version": 3
   },
   "file_extension": ".py",
   "mimetype": "text/x-python",
   "name": "python",
   "nbconvert_exporter": "python",
   "pygments_lexer": "ipython3",
   "version": "3.8.5"
  }
 },
 "nbformat": 4,
 "nbformat_minor": 5
}
