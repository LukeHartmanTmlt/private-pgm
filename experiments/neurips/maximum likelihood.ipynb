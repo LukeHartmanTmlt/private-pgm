{
 "cells": [
  {
   "cell_type": "code",
   "execution_count": 1,
   "id": "academic-biotechnology",
   "metadata": {},
   "outputs": [],
   "source": [
    "from mbi import CliqueVector, GraphicalModel, Dataset, Domain, Factor\n",
    "import numpy as np\n",
    "from scipy import optimize"
   ]
  },
  {
   "cell_type": "code",
   "execution_count": 9,
   "id": "opposed-trunk",
   "metadata": {},
   "outputs": [],
   "source": [
    "def learn_model_exact(domain, total, marginals):\n",
    "    data_marginals = CliqueVector(marginals)*(1.0/total)\n",
    "    original_cliques = list(marginals.keys())\n",
    "    model = GraphicalModel(domain, original_cliques, 1.0)\n",
    "    if len(marginals) == 0:\n",
    "        model.potentials = CliqueVector.zeros(domain, model.cliques)\n",
    "        model.marginals = model.belief_propagation(model.potentials)\n",
    "        model.total = total\n",
    "        return model\n",
    "    index = {}\n",
    "    idx = 0\n",
    "    for cl in original_cliques:\n",
    "        end = idx + domain.size(cl)\n",
    "        index[cl] = (idx, end)\n",
    "        idx = end\n",
    "\n",
    "    def to_vector(mu):\n",
    "        return np.concatenate([mu[cl].datavector() for cl in original_cliques])\n",
    "\n",
    "    def to_cliquevector(vector):\n",
    "        marginals = {}\n",
    "        for cl in original_cliques:\n",
    "            start, end = index[cl]\n",
    "            dom = domain.project(cl)\n",
    "            marginals[cl] = Factor(dom, vector[start:end])\n",
    "        return CliqueVector(marginals)\n",
    "    \n",
    "    def expand(pot):\n",
    "        potentials = CliqueVector.zeros(domain, model.cliques)\n",
    "        for cl in pot:\n",
    "            for cl2 in model.cliques:\n",
    "                if set(cl) <= set(cl2):\n",
    "                    potentials[cl2] += pot[cl]\n",
    "                    break\n",
    "        return potentials\n",
    "    \n",
    "    def contract(mu):\n",
    "        mu2 = {}\n",
    "        for cl in original_cliques:\n",
    "            for cl2 in mu:\n",
    "                if set(cl) <= set(cl2):\n",
    "                    mu2[cl] = mu[cl2].project(cl)\n",
    "                    break\n",
    "        return CliqueVector(mu2)\n",
    "\n",
    "    def loss_and_grad(potentials):\n",
    "        pot = to_cliquevector(potentials)\n",
    "        pot2 = expand(pot)\n",
    "        logZ = model.belief_propagation(pot2, logZ=True)\n",
    "        model_marginals = contract(model.belief_propagation(pot2))\n",
    "        \n",
    "        #print(pot, model_marginals)\n",
    "\n",
    "        loss = pot.dot(data_marginals) - logZ\n",
    "        grad = data_marginals + -1*model_marginals\n",
    "        return -loss, -to_vector(grad)\n",
    "\n",
    "    x0 = to_vector(CliqueVector.zeros(domain, original_cliques))\n",
    "    ans = optimize.minimize(loss_and_grad, x0=x0, method='L-BFGS-B', jac=True)\n",
    "    print(ans)\n",
    "    \n",
    "    model.total = total\n",
    "    model.potentials = expand(to_cliquevector(ans['x']))\n",
    "    model.marginals = model.belief_propagation(model.potentials)\n",
    "    return model\n"
   ]
  },
  {
   "cell_type": "code",
   "execution_count": 12,
   "id": "early-roads",
   "metadata": {},
   "outputs": [
    {
     "name": "stdout",
     "output_type": "stream",
     "text": [
      "      fun: 3.1294905414016063\n",
      " hess_inv: <6x6 LbfgsInvHessProduct with dtype=float64>\n",
      "      jac: array([-1.50271793e-06, -6.80845900e-07, -1.18532770e-06, -6.80845900e-07,\n",
      "        2.19928739e-06,  1.85045004e-06])\n",
      "  message: 'CONVERGENCE: NORM_OF_PROJECTED_GRADIENT_<=_PGTOL'\n",
      "     nfev: 7\n",
      "      nit: 6\n",
      "     njev: 7\n",
      "   status: 0\n",
      "  success: True\n",
      "        x: array([-0.28343234, -0.20338234,  0.00425485, -0.20338234,  0.12205751,\n",
      "        0.56388466])\n",
      "{('A', 'B'): <mbi.factor.Factor object at 0x7fb94ddd9b80>, ('C',): <mbi.factor.Factor object at 0x7fb94ddd9760>}\n",
      "[11.99984973 12.99993192 15.99988147 12.99993192 18.00021993 28.00018505]\n",
      "[12. 13. 16. 13. 18. 28.]\n",
      "\n"
     ]
    }
   ],
   "source": [
    "dom = Domain(['A','B','C'],[2,3,4])\n",
    "n = 100\n",
    "data = Dataset.synthetic(dom,n)\n",
    "\n",
    "marginals = {}\n",
    "cliques = [('A','B')]\n",
    "for cl in cliques:\n",
    "    mu = data.project(cl)\n",
    "    marginals[cl] = Factor(mu.domain, mu.datavector())\n",
    "    \n",
    "model = learn_model_exact(dom, data.records, marginals)\n",
    "print(model.potentials)\n",
    "for cl in cliques:\n",
    "    print(model.project(cl).datavector())\n",
    "    print(data.project(cl).datavector())\n",
    "    print()"
   ]
  },
  {
   "cell_type": "code",
   "execution_count": null,
   "id": "processed-transformation",
   "metadata": {},
   "outputs": [],
   "source": []
  }
 ],
 "metadata": {
  "kernelspec": {
   "display_name": "Python 3",
   "language": "python",
   "name": "python3"
  },
  "language_info": {
   "codemirror_mode": {
    "name": "ipython",
    "version": 3
   },
   "file_extension": ".py",
   "mimetype": "text/x-python",
   "name": "python",
   "nbconvert_exporter": "python",
   "pygments_lexer": "ipython3",
   "version": "3.8.5"
  }
 },
 "nbformat": 4,
 "nbformat_minor": 5
}
